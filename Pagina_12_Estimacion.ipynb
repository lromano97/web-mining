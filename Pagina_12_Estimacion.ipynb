{
  "nbformat": 4,
  "nbformat_minor": 0,
  "metadata": {
    "colab": {
      "name": "Pagina_12_Estimacion.ipynb",
      "provenance": []
    },
    "kernelspec": {
      "name": "python3",
      "display_name": "Python 3"
    },
    "language_info": {
      "name": "python"
    }
  },
  "cells": [
    {
      "cell_type": "markdown",
      "metadata": {
        "id": "m9bAjWawC5UH"
      },
      "source": [
        "# Estimacion de categorias - Pagina12"
      ]
    },
    {
      "cell_type": "code",
      "metadata": {
        "id": "PJJQDWrRC0Qj"
      },
      "source": [
        "# Instalacion de Bibliotecas\n",
        "!pip install gdown --quiet"
      ],
      "execution_count": 1,
      "outputs": []
    },
    {
      "cell_type": "code",
      "metadata": {
        "id": "SFUizPRnBPe2",
        "colab": {
          "base_uri": "https://localhost:8080/"
        },
        "outputId": "2414d5d7-4812-4092-8cc6-1555a1174e8e"
      },
      "source": [
        "# Importo bibliotecas\n",
        "import gdown\n",
        "import sys\n",
        "import warnings\n",
        "import pprint\n",
        "import gc\n",
        "import re\n",
        "import nltk\n",
        "import numpy as np\n",
        "import pandas as pd\n",
        "import seaborn as sns\n",
        "import matplotlib.pyplot as plt\n",
        "\n",
        "from nltk.tokenize import word_tokenize\n",
        "from nltk.stem.snowball import SnowballStemmer\n",
        "\n",
        "from sklearn.pipeline import Pipeline\n",
        "from sklearn.externals import joblib\n",
        "from sklearn.feature_extraction.text import TfidfVectorizer\n",
        "from sklearn.svm import LinearSVC\n",
        "from sklearn.naive_bayes import GaussianNB\n",
        "from sklearn.tree import DecisionTreeClassifier\n",
        "from sklearn.linear_model import LogisticRegression\n",
        "from sklearn.ensemble import StackingClassifier, RandomForestClassifier\n",
        "from sklearn.model_selection import StratifiedKFold, train_test_split, GridSearchCV\n",
        "from sklearn.metrics import confusion_matrix, accuracy_score, precision_score, recall_score\n",
        "\n",
        "# Descargo punkt\n",
        "nltk.download('punkt')\n",
        "\n",
        "# PrettyPrinter\n",
        "pp = pprint.PrettyPrinter(indent=4, compact=True)\n",
        "\n",
        "# Libero memoria\n",
        "gc.collect()\n",
        "\n",
        "# No mostrar warnings\n",
        "warnings.filterwarnings('ignore')\n",
        "\n",
        "# Limite de recursion\n",
        "sys.setrecursionlimit(30000)\n",
        "\n",
        "# Tema de graficos\n",
        "sns.set_theme(style=\"whitegrid\")"
      ],
      "execution_count": 2,
      "outputs": [
        {
          "output_type": "stream",
          "name": "stderr",
          "text": [
            "/usr/local/lib/python3.7/dist-packages/sklearn/externals/joblib/__init__.py:15: FutureWarning: sklearn.externals.joblib is deprecated in 0.21 and will be removed in 0.23. Please import this functionality directly from joblib, which can be installed with: pip install joblib. If this warning is raised when loading pickled models, you may need to re-serialize those models with scikit-learn 0.21+.\n",
            "  warnings.warn(msg, category=FutureWarning)\n"
          ]
        },
        {
          "output_type": "stream",
          "name": "stdout",
          "text": [
            "[nltk_data] Downloading package punkt to /root/nltk_data...\n",
            "[nltk_data]   Unzipping tokenizers/punkt.zip.\n"
          ]
        }
      ]
    },
    {
      "cell_type": "code",
      "metadata": {
        "colab": {
          "base_uri": "https://localhost:8080/",
          "height": 251
        },
        "id": "oxdDp-zxCOY0",
        "outputId": "dea7b867-fc1e-46c5-91bf-7022db8a28f6"
      },
      "source": [
        "# Descargo datasets de secciones de noticias\n",
        "gdown.download('https://drive.google.com/uc?id=1qLM1mV45A9-hUI9dWb4SwtqCmfmAA35R', 'Sociedad.sav', quiet=False)\n",
        "gdown.download('https://drive.google.com/uc?id=19KLD-8nRba8XWwcw6YjChwB4KSZ10g6v', 'Economia.sav', quiet=False)\n",
        "gdown.download('https://drive.google.com/uc?id=1juCpm4wAXHFXH3IBVQ3FrkfQ7I8r9BLn', 'ElMundo.sav', quiet=False)"
      ],
      "execution_count": 3,
      "outputs": [
        {
          "output_type": "stream",
          "name": "stderr",
          "text": [
            "Downloading...\n",
            "From: https://drive.google.com/uc?id=1qLM1mV45A9-hUI9dWb4SwtqCmfmAA35R\n",
            "To: /content/Sociedad.sav\n",
            "824MB [00:05, 143MB/s]\n",
            "Downloading...\n",
            "From: https://drive.google.com/uc?id=19KLD-8nRba8XWwcw6YjChwB4KSZ10g6v\n",
            "To: /content/Economia.sav\n",
            "839MB [00:23, 36.0MB/s]\n",
            "Downloading...\n",
            "From: https://drive.google.com/uc?id=1juCpm4wAXHFXH3IBVQ3FrkfQ7I8r9BLn\n",
            "To: /content/ElMundo.sav\n",
            "814MB [00:16, 50.9MB/s]\n"
          ]
        },
        {
          "output_type": "execute_result",
          "data": {
            "application/vnd.google.colaboratory.intrinsic+json": {
              "type": "string"
            },
            "text/plain": [
              "'ElMundo.sav'"
            ]
          },
          "metadata": {},
          "execution_count": 3
        }
      ]
    },
    {
      "cell_type": "code",
      "metadata": {
        "id": "pbH5o_0nDcMk"
      },
      "source": [
        "# Cargo secciones (Aproximadamente toma 5 minutos en cargar las tres secciones)\n",
        "society_section = joblib.load('Sociedad.sav')\n",
        "economy_section = joblib.load('Economia.sav')\n",
        "world_section = joblib.load('ElMundo.sav')"
      ],
      "execution_count": 4,
      "outputs": []
    },
    {
      "cell_type": "code",
      "metadata": {
        "id": "40TWBidjHG1n"
      },
      "source": [
        "# Concatenamos secciones\n",
        "news = pd.concat([society_section, economy_section, world_section], axis=0)"
      ],
      "execution_count": 5,
      "outputs": []
    },
    {
      "cell_type": "code",
      "metadata": {
        "id": "21yHygRIHH3s",
        "colab": {
          "base_uri": "https://localhost:8080/"
        },
        "outputId": "7145e9af-0ec1-48ee-c98a-70ece32fee64"
      },
      "source": [
        "# Borramos temporal de secciones\n",
        "del society_section\n",
        "del economy_section\n",
        "del world_section\n",
        "\n",
        "# Libero memoria\n",
        "gc.collect()"
      ],
      "execution_count": 6,
      "outputs": [
        {
          "output_type": "execute_result",
          "data": {
            "text/plain": [
              "6804536"
            ]
          },
          "metadata": {},
          "execution_count": 6
        }
      ]
    },
    {
      "cell_type": "code",
      "metadata": {
        "id": "0xt1Jd77ygrv",
        "outputId": "3ea1f318-c57a-47aa-c9d5-3adc63fab7bb",
        "colab": {
          "base_uri": "https://localhost:8080/",
          "height": 204
        }
      },
      "source": [
        "news.head()"
      ],
      "execution_count": 7,
      "outputs": [
        {
          "output_type": "execute_result",
          "data": {
            "text/html": [
              "<div>\n",
              "<style scoped>\n",
              "    .dataframe tbody tr th:only-of-type {\n",
              "        vertical-align: middle;\n",
              "    }\n",
              "\n",
              "    .dataframe tbody tr th {\n",
              "        vertical-align: top;\n",
              "    }\n",
              "\n",
              "    .dataframe thead th {\n",
              "        text-align: right;\n",
              "    }\n",
              "</style>\n",
              "<table border=\"1\" class=\"dataframe\">\n",
              "  <thead>\n",
              "    <tr style=\"text-align: right;\">\n",
              "      <th></th>\n",
              "      <th>url</th>\n",
              "      <th>paragraph</th>\n",
              "      <th>date</th>\n",
              "      <th>topic</th>\n",
              "    </tr>\n",
              "  </thead>\n",
              "  <tbody>\n",
              "    <tr>\n",
              "      <th>0</th>\n",
              "      <td>https://www.pagina12.com.ar//370534-fue-a-cort...</td>\n",
              "      <td>\"Sin embargo, para sorpresa de la demandante (...</td>\n",
              "      <td>24 de septiembre de 2021 - 12:24</td>\n",
              "      <td>sociedad</td>\n",
              "    </tr>\n",
              "    <tr>\n",
              "      <th>1</th>\n",
              "      <td>https://www.pagina12.com.ar//370530-lanzaron-u...</td>\n",
              "      <td>“El Plan fue presentado en varias jurisdiccion...</td>\n",
              "      <td>24 de septiembre de 2021 - 12:04</td>\n",
              "      <td>sociedad</td>\n",
              "    </tr>\n",
              "    <tr>\n",
              "      <th>2</th>\n",
              "      <td>https://www.pagina12.com.ar//370527-orden-de-a...</td>\n",
              "      <td>El FBI pidió que cualquier persona que tenga i...</td>\n",
              "      <td>24 de septiembre de 2021 - 11:56</td>\n",
              "      <td>sociedad</td>\n",
              "    </tr>\n",
              "    <tr>\n",
              "      <th>3</th>\n",
              "      <td>https://www.pagina12.com.ar//370567-julio-y-gi...</td>\n",
              "      <td>\"Esta muestra es un tributo con gran cariño de...</td>\n",
              "      <td>24 de septiembre de 2021 - 15:20</td>\n",
              "      <td>sociedad</td>\n",
              "    </tr>\n",
              "    <tr>\n",
              "      <th>4</th>\n",
              "      <td>https://www.pagina12.com.ar//370349-yemen-un-g...</td>\n",
              "      <td>La investigación se abocó al primer descenso d...</td>\n",
              "      <td>24 de septiembre de 2021 - 01:34</td>\n",
              "      <td>sociedad</td>\n",
              "    </tr>\n",
              "  </tbody>\n",
              "</table>\n",
              "</div>"
            ],
            "text/plain": [
              "                                                 url  ...     topic\n",
              "0  https://www.pagina12.com.ar//370534-fue-a-cort...  ...  sociedad\n",
              "1  https://www.pagina12.com.ar//370530-lanzaron-u...  ...  sociedad\n",
              "2  https://www.pagina12.com.ar//370527-orden-de-a...  ...  sociedad\n",
              "3  https://www.pagina12.com.ar//370567-julio-y-gi...  ...  sociedad\n",
              "4  https://www.pagina12.com.ar//370349-yemen-un-g...  ...  sociedad\n",
              "\n",
              "[5 rows x 4 columns]"
            ]
          },
          "metadata": {},
          "execution_count": 7
        }
      ]
    },
    {
      "cell_type": "code",
      "metadata": {
        "id": "NaT2j_zeyxtn",
        "outputId": "c7344b41-14ab-4838-88cd-2568dfa0e164",
        "colab": {
          "base_uri": "https://localhost:8080/",
          "height": 204
        }
      },
      "source": [
        "news.sort_values(by='date', inplace=True)\n",
        "news.head()"
      ],
      "execution_count": 8,
      "outputs": [
        {
          "output_type": "execute_result",
          "data": {
            "text/html": [
              "<div>\n",
              "<style scoped>\n",
              "    .dataframe tbody tr th:only-of-type {\n",
              "        vertical-align: middle;\n",
              "    }\n",
              "\n",
              "    .dataframe tbody tr th {\n",
              "        vertical-align: top;\n",
              "    }\n",
              "\n",
              "    .dataframe thead th {\n",
              "        text-align: right;\n",
              "    }\n",
              "</style>\n",
              "<table border=\"1\" class=\"dataframe\">\n",
              "  <thead>\n",
              "    <tr style=\"text-align: right;\">\n",
              "      <th></th>\n",
              "      <th>url</th>\n",
              "      <th>paragraph</th>\n",
              "      <th>date</th>\n",
              "      <th>topic</th>\n",
              "    </tr>\n",
              "  </thead>\n",
              "  <tbody>\n",
              "    <tr>\n",
              "      <th>938</th>\n",
              "      <td>https://www.pagina12.com.ar//184479-el-comedia...</td>\n",
              "      <td>Ucrania irá a segunda vuelta. El comediante uc...</td>\n",
              "      <td>1 de abril de 2019 - 01:28</td>\n",
              "      <td>el-mundo</td>\n",
              "    </tr>\n",
              "    <tr>\n",
              "      <th>943</th>\n",
              "      <td>https://www.pagina12.com.ar//184346-la-ultrade...</td>\n",
              "      <td>PáginaI12 en FranciaDesde ParísYa no son un gr...</td>\n",
              "      <td>1 de abril de 2019 - 01:40</td>\n",
              "      <td>el-mundo</td>\n",
              "    </tr>\n",
              "    <tr>\n",
              "      <th>940</th>\n",
              "      <td>https://www.pagina12.com.ar//184481-hacer-memo...</td>\n",
              "      <td>Cientos de brasileños salieron ayer a las call...</td>\n",
              "      <td>1 de abril de 2019 - 10:42</td>\n",
              "      <td>el-mundo</td>\n",
              "    </tr>\n",
              "    <tr>\n",
              "      <th>942</th>\n",
              "      <td>https://www.pagina12.com.ar//184483-una-presid...</td>\n",
              "      <td>PáginaI12 en PerúDesde LimaLlegó de improviso ...</td>\n",
              "      <td>1 de abril de 2019 - 11:30</td>\n",
              "      <td>el-mundo</td>\n",
              "    </tr>\n",
              "    <tr>\n",
              "      <th>936</th>\n",
              "      <td>https://www.pagina12.com.ar//184586-tragedia-e...</td>\n",
              "      <td>Al menos veinte personas murieron en una termi...</td>\n",
              "      <td>1 de abril de 2019 - 14:47</td>\n",
              "      <td>el-mundo</td>\n",
              "    </tr>\n",
              "  </tbody>\n",
              "</table>\n",
              "</div>"
            ],
            "text/plain": [
              "                                                   url  ...     topic\n",
              "938  https://www.pagina12.com.ar//184479-el-comedia...  ...  el-mundo\n",
              "943  https://www.pagina12.com.ar//184346-la-ultrade...  ...  el-mundo\n",
              "940  https://www.pagina12.com.ar//184481-hacer-memo...  ...  el-mundo\n",
              "942  https://www.pagina12.com.ar//184483-una-presid...  ...  el-mundo\n",
              "936  https://www.pagina12.com.ar//184586-tragedia-e...  ...  el-mundo\n",
              "\n",
              "[5 rows x 4 columns]"
            ]
          },
          "metadata": {},
          "execution_count": 8
        }
      ]
    },
    {
      "cell_type": "code",
      "metadata": {
        "id": "FFQu0839D9Bu"
      },
      "source": [
        "# Stopwords\n",
        "stopwords_es = pd.read_csv('https://drive.google.com/uc?export=download&id=1prdR9zCvSQnEIZoLf5B0TiS1tUhMLClC', header = None)\n",
        "stopwords_es_sin_acentos = pd.read_csv('https://drive.google.com/uc?export=download&id=1QDLZXPDnJ1XbHJRukDgqxi5P0AKtssd_', header = None)\n",
        "\n",
        "stopwords = pd.concat([stopwords_es, stopwords_es_sin_acentos])"
      ],
      "execution_count": 9,
      "outputs": []
    },
    {
      "cell_type": "code",
      "metadata": {
        "id": "DDOJHqMiEc5T"
      },
      "source": [
        "def remove_stop_words(text):\n",
        "  \"\"\"\n",
        "    Remueve stop words en inglés\n",
        "\n",
        "    Attributes\n",
        "    ----------\n",
        "    text: list\n",
        "      lista de palabras (tokens) a filtrar\n",
        "\n",
        "    Returns\n",
        "    -------\n",
        "    list\n",
        "      lista de palabras sin los stop words\n",
        "  \"\"\"\n",
        "  return [token for token in text if token.lower() not in stopwords]"
      ],
      "execution_count": 10,
      "outputs": []
    },
    {
      "cell_type": "code",
      "metadata": {
        "id": "HIxt6J9MEdVu"
      },
      "source": [
        "def stem_words(tokens):\n",
        "    \"\"\"\n",
        "    Transforma mediante un stemmer a una secuencia de tokens.\n",
        "    :param tokens: Una secuencia de tokens.\n",
        "    :return La secuencia de tokens transformada por el stemmer.\n",
        "    \"\"\"\n",
        "    stemmer = SnowballStemmer(\"spanish\")\n",
        "    return [stemmer.stem(word) for word in tokens]"
      ],
      "execution_count": 11,
      "outputs": []
    },
    {
      "cell_type": "code",
      "metadata": {
        "id": "NtSPecIoEdYB"
      },
      "source": [
        "def clean_short_words(text):\n",
        "  \"\"\"\n",
        "    Limpia palabras con longitud 1\n",
        "\n",
        "    Attributes\n",
        "    ----------\n",
        "    text: str\n",
        "      documento a tokenizar\n",
        "    \n",
        "    Returns\n",
        "    -------\n",
        "    list\n",
        "      lista de tokens\n",
        "  \"\"\"\n",
        "  return [word for word in text if len(word) > 1]"
      ],
      "execution_count": 12,
      "outputs": []
    },
    {
      "cell_type": "code",
      "metadata": {
        "id": "dk0af5VZEdaf"
      },
      "source": [
        "def preprocess_text(text):\n",
        "  \"\"\"\n",
        "    Pre-procesamiento\n",
        "\n",
        "    Attributes\n",
        "    ----------\n",
        "    text: str\n",
        "      documento a analizar\n",
        "\n",
        "    Returns\n",
        "    -------\n",
        "    pd.DataFrame\n",
        "      retorna un dataframe con las 20 palabras que más se repiten y su frecuencia\n",
        "  \"\"\"\n",
        "  tokenized = word_tokenize(text, language='spanish')\n",
        "  without_stops = remove_stop_words(tokenized)\n",
        "  without_short_words = clean_short_words(without_stops)\n",
        "  stemmed_words = stem_words(without_short_words)\n",
        "  return stemmed_words"
      ],
      "execution_count": 13,
      "outputs": []
    },
    {
      "cell_type": "code",
      "metadata": {
        "id": "9MqW1gguZGe8"
      },
      "source": [
        "def create_train_test_directories(X_train, X_test, y_train, y_test):\n",
        "  train_dataset = pd.concat([X_train, y_train], axis=1)\n",
        "  test_dataset = pd.concat([X_test, y_test], axis=1)\n",
        "  \n",
        "  train_dataset[train_dataset.topic == 'sociedad'].to_csv('Sociedad_Training.csv', sep='\\t', encoding='utf-8')\n",
        "  test_dataset[test_dataset.topic == 'sociedad'].to_csv('Sociedad_Testing.csv', sep='\\t', encoding='utf-8')\n",
        "\n",
        "  train_dataset[train_dataset.topic == 'el-mundo'].to_csv('ElMundo_Training.csv', sep='\\t', encoding='utf-8')\n",
        "  test_dataset[test_dataset.topic == 'el-mundo'].to_csv('ElMundo_Testing.csv', sep='\\t', encoding='utf-8')\n",
        "\n",
        "  train_dataset[train_dataset.topic == 'economia'].to_csv('Economia_Training.csv', sep='\\t', encoding='utf-8')\n",
        "  test_dataset[test_dataset.topic == 'economia'].to_csv('Economia_Testing.csv', sep='\\t', encoding='utf-8')"
      ],
      "execution_count": 14,
      "outputs": []
    },
    {
      "cell_type": "code",
      "metadata": {
        "colab": {
          "base_uri": "https://localhost:8080/"
        },
        "id": "zE-PIliyiEyK",
        "outputId": "19686b9a-3d8b-4dd5-e6e7-7d32a85b71db"
      },
      "source": [
        "# Separacion en entrenamiento y validacion\n",
        "# X_train, X_test, y_train, y_test = train_test_split(news.loc[:, news.columns != 'topic'], news.topic, test_size=.10, random_state=10)\n",
        "X_train, X_test, y_train, y_test = train_test_split(news.loc[:, news.columns != 'topic'], news.topic, test_size=.10, random_state=10, shuffle=False)\n",
        "\n",
        "# Guardamos conjuntos de entrenamiento y validacion en directorios para la entrega\n",
        "create_train_test_directories(X_train, X_test, y_train, y_test)\n",
        "\n",
        "# Convertimos a unicode\n",
        "X_train = X_train.paragraph.values.astype('U')\n",
        "X_test = X_test.paragraph.values.astype('U')\n",
        "\n",
        "# Liberamos memoria\n",
        "del news\n",
        "gc.collect()"
      ],
      "execution_count": 15,
      "outputs": [
        {
          "output_type": "execute_result",
          "data": {
            "text/plain": [
              "100"
            ]
          },
          "metadata": {},
          "execution_count": 15
        }
      ]
    },
    {
      "cell_type": "code",
      "metadata": {
        "id": "4-MVV6ADiZ9P"
      },
      "source": [
        "# Cantidad minima de docs que tienen que tener a un token para conservarlo.\n",
        "MIN_DF=3\n",
        "# Cantidad maxima de docs que tienen que tener a un token para conservarlo.\n",
        "MAX_DF=0.8\n",
        "# Numero minimo tokens consecutivos que se consideran\n",
        "MIN_NGRAMS=1\n",
        "# Numero maximo tokens consecutivos que se consideran\n",
        "MAX_NGRAMS=2\n",
        "\n",
        "tfidf_vectorizer = TfidfVectorizer(tokenizer=preprocess_text, lowercase=True, strip_accents='unicode', decode_error='ignore', \n",
        "                                   ngram_range=(MIN_NGRAMS, MAX_NGRAMS), min_df=MIN_DF, max_df=MAX_DF)"
      ],
      "execution_count": 16,
      "outputs": []
    },
    {
      "cell_type": "code",
      "metadata": {
        "id": "W_i1R3HZjLLg"
      },
      "source": [
        "class DenseTransformer():\n",
        "    \n",
        "    def fit(self, X, y=None, **fit_params):\n",
        "        return self\n",
        "\n",
        "    def transform(self, X, y=None, **fit_params):\n",
        "        return X.todense()"
      ],
      "execution_count": 17,
      "outputs": []
    },
    {
      "cell_type": "code",
      "metadata": {
        "id": "Y4cIbTBYn8s3"
      },
      "source": [
        "# Creo Folds estratificados\n",
        "stratified_kfolds = StratifiedKFold(5, random_state=10)\n",
        "\n",
        "# Defino estimadores con los que entrenar\n",
        "estimators = [\n",
        "              ('dt', DecisionTreeClassifier()),\n",
        "              ('nb', GaussianNB()),\n",
        "              ('svc', LinearSVC())\n",
        "]\n",
        "\n",
        "# Defino hiperparametros que voy a optimizar para los diferentes modelos\n",
        "estimators_hyperparams = {\n",
        "    'dt__max_depth': list(range(2,16)), 'dt__min_samples_split': list(range(2,16)),\n",
        "    'nb__var_smoothing': np.logspace(0,-9, num=50)                                                                                                                     \n",
        "}\n",
        "\n",
        "# GridSearch con cross-validation y un stacking de estimadores previamente definidos\n",
        "model_cv = GridSearchCV(estimator = StackingClassifier(estimators=estimators, final_estimator=LogisticRegression()), \n",
        "                        param_grid = estimators_hyperparams, \n",
        "                        scoring = 'roc_auc_ovo_weighted', \n",
        "                        cv = stratified_kfolds)"
      ],
      "execution_count": 18,
      "outputs": []
    },
    {
      "cell_type": "code",
      "metadata": {
        "id": "qZ6PJy0FjIQA"
      },
      "source": [
        "ml_pipeline = Pipeline(steps=[\n",
        "                              ('preprocessor', tfidf_vectorizer),\n",
        "                              ('to_dense', DenseTransformer()), \n",
        "                              ('grid_search_cv', model_cv)\n",
        "])"
      ],
      "execution_count": 19,
      "outputs": []
    },
    {
      "cell_type": "code",
      "metadata": {
        "id": "EEn_3mBMm9CY",
        "colab": {
          "base_uri": "https://localhost:8080/"
        },
        "outputId": "aa80b96d-e8aa-48c4-d1ae-cf8b667c9642"
      },
      "source": [
        "# Liberar memoria RAM antes de entrenar\n",
        "gc.collect()"
      ],
      "execution_count": 20,
      "outputs": [
        {
          "output_type": "execute_result",
          "data": {
            "text/plain": [
              "253"
            ]
          },
          "metadata": {},
          "execution_count": 20
        }
      ]
    },
    {
      "cell_type": "code",
      "metadata": {
        "id": "y3DACtLljLqG"
      },
      "source": [
        "ml_pipeline.fit(X_train, y_train)"
      ],
      "execution_count": null,
      "outputs": []
    },
    {
      "cell_type": "code",
      "metadata": {
        "id": "1CIJJCkhj-zu"
      },
      "source": [
        "y_pred = ml_pipeline.predict(X_test)"
      ],
      "execution_count": null,
      "outputs": []
    },
    {
      "cell_type": "code",
      "metadata": {
        "id": "gbpAtmTDkZ2h"
      },
      "source": [
        "pp.pprint(y_pred)"
      ],
      "execution_count": null,
      "outputs": []
    },
    {
      "cell_type": "code",
      "metadata": {
        "id": "XD0sAe0gkfQg"
      },
      "source": [
        "pp.pprint(y_test)"
      ],
      "execution_count": null,
      "outputs": []
    },
    {
      "cell_type": "code",
      "metadata": {
        "id": "aRDDgf1BGzOj"
      },
      "source": [
        "# Matriz de confusion\n",
        "labels = [\"sociedad\", \"el-mundo\", \"economia\"]\n",
        "cnf_matrix = confusion_matrix(y_test, y_pred, labels=labels)"
      ],
      "execution_count": null,
      "outputs": []
    },
    {
      "cell_type": "code",
      "metadata": {
        "id": "STdlSArCo2B0"
      },
      "source": [
        "df_cm = pd.DataFrame(cnf_array, index = [i for i in labels],\n",
        "                  columns = [i for i in labels])\n",
        "plt.figure(figsize = (10,7))\n",
        "sns.heatmap(df_cm, annot=True)"
      ],
      "execution_count": null,
      "outputs": []
    },
    {
      "cell_type": "code",
      "metadata": {
        "id": "-wTc4LXeWKBR"
      },
      "source": [
        "# Exactitud\n",
        "accuracy_score(y_test, y_pred)"
      ],
      "execution_count": null,
      "outputs": []
    },
    {
      "cell_type": "code",
      "metadata": {
        "id": "cgCUorB6WM1S"
      },
      "source": [
        "# Precision\n",
        "precision_score(y_test, y_pred, average='weighted')"
      ],
      "execution_count": null,
      "outputs": []
    },
    {
      "cell_type": "code",
      "metadata": {
        "id": "9PSf2x2VWP0j"
      },
      "source": [
        "# Recall\n",
        "recall_score(y_test, y_pred, average='weighted')"
      ],
      "execution_count": null,
      "outputs": []
    }
  ]
}