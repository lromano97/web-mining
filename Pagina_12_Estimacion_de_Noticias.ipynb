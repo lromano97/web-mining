{
  "nbformat": 4,
  "nbformat_minor": 0,
  "metadata": {
    "colab": {
      "name": "Pagina_12_Estimacion_de_Noticias.ipynb",
      "provenance": []
    },
    "kernelspec": {
      "name": "python3",
      "display_name": "Python 3"
    },
    "language_info": {
      "name": "python"
    }
  },
  "cells": [
    {
      "cell_type": "markdown",
      "metadata": {
        "id": "m9bAjWawC5UH"
      },
      "source": [
        "# Estimacion de categorias - Pagina12"
      ]
    },
    {
      "cell_type": "code",
      "metadata": {
        "id": "PJJQDWrRC0Qj"
      },
      "source": [
        "# Instalacion de Bibliotecas\n",
        "!pip install gdown --quiet"
      ],
      "execution_count": 1,
      "outputs": []
    },
    {
      "cell_type": "code",
      "metadata": {
        "id": "SFUizPRnBPe2"
      },
      "source": [
        "# Importo bibliotecas\n",
        "import gdown\n",
        "import sys\n",
        "import warnings\n",
        "import pprint\n",
        "import gc\n",
        "import re\n",
        "import nltk\n",
        "import numpy as np\n",
        "import pandas as pd\n",
        "import seaborn as sns\n",
        "import matplotlib.pyplot as plt\n",
        "\n",
        "from nltk.tokenize import word_tokenize\n",
        "from nltk.stem.snowball import SnowballStemmer\n",
        "\n",
        "from sklearn.pipeline import Pipeline\n",
        "from sklearn.externals import joblib\n",
        "from sklearn.feature_extraction.text import TfidfVectorizer\n",
        "from sklearn.svm import LinearSVC\n",
        "from sklearn.naive_bayes import GaussianNB\n",
        "from sklearn.tree import DecisionTreeClassifier\n",
        "from sklearn.linear_model import LogisticRegression\n",
        "from sklearn.ensemble import StackingClassifier, RandomForestClassifier\n",
        "from sklearn.model_selection import StratifiedKFold, train_test_split, GridSearchCV\n",
        "from sklearn.metrics import confusion_matrix, accuracy_score, precision_score, recall_score, f1_score\n",
        "\n",
        "# Descargo punkt\n",
        "nltk.download('punkt')\n",
        "\n",
        "# PrettyPrinter\n",
        "pp = pprint.PrettyPrinter(indent=4, compact=True)\n",
        "\n",
        "# Libero memoria\n",
        "gc.collect()\n",
        "\n",
        "# No mostrar warnings\n",
        "warnings.filterwarnings('ignore')\n",
        "\n",
        "# Limite de recursion\n",
        "sys.setrecursionlimit(30000)\n",
        "\n",
        "# Tema de graficos\n",
        "sns.set_theme(style=\"whitegrid\")"
      ],
      "execution_count": null,
      "outputs": []
    },
    {
      "cell_type": "code",
      "metadata": {
        "colab": {
          "base_uri": "https://localhost:8080/",
          "height": 192
        },
        "id": "oxdDp-zxCOY0",
        "outputId": "b773249e-b6dc-4baf-aa8c-64dd8a8f5c15"
      },
      "source": [
        "# Descargo datasets de secciones de noticias\n",
        "gdown.download('https://drive.google.com/uc?id=1qLM1mV45A9-hUI9dWb4SwtqCmfmAA35R', 'Sociedad.sav', quiet=False)\n",
        "gdown.download('https://drive.google.com/uc?id=19KLD-8nRba8XWwcw6YjChwB4KSZ10g6v', 'Economia.sav', quiet=False)\n",
        "gdown.download('https://drive.google.com/uc?id=1juCpm4wAXHFXH3IBVQ3FrkfQ7I8r9BLn', 'ElMundo.sav', quiet=False)"
      ],
      "execution_count": 3,
      "outputs": [
        {
          "output_type": "stream",
          "name": "stderr",
          "text": [
            "Downloading...\n",
            "From: https://drive.google.com/uc?id=1qLM1mV45A9-hUI9dWb4SwtqCmfmAA35R\n",
            "To: /content/Sociedad.sav\n",
            "824MB [00:04, 174MB/s]\n",
            "839MB [00:20, 41.1MB/s]\n",
            "Downloading...\n",
            "From: https://drive.google.com/uc?id=1juCpm4wAXHFXH3IBVQ3FrkfQ7I8r9BLn\n",
            "To: /content/ElMundo.sav\n",
            "814MB [00:12, 63.7MB/s]\n"
          ]
        },
        {
          "output_type": "execute_result",
          "data": {
            "application/vnd.google.colaboratory.intrinsic+json": {
              "type": "string"
            },
            "text/plain": [
              "'ElMundo.sav'"
            ]
          },
          "metadata": {},
          "execution_count": 3
        }
      ]
    },
    {
      "cell_type": "code",
      "metadata": {
        "id": "pbH5o_0nDcMk"
      },
      "source": [
        "# Cargo secciones (Aproximadamente toma 5 minutos en cargar las tres secciones)\n",
        "society_section = joblib.load('Sociedad.sav')\n",
        "economy_section = joblib.load('Economia.sav')\n",
        "world_section = joblib.load('ElMundo.sav')"
      ],
      "execution_count": 4,
      "outputs": []
    },
    {
      "cell_type": "code",
      "metadata": {
        "id": "40TWBidjHG1n"
      },
      "source": [
        "# Concatenamos secciones\n",
        "news = pd.concat([society_section, economy_section, world_section], axis=0)"
      ],
      "execution_count": 5,
      "outputs": []
    },
    {
      "cell_type": "code",
      "metadata": {
        "id": "1-jWLMdH7crB",
        "outputId": "62156231-2b3e-4d28-9f54-65438f4a78d0",
        "colab": {
          "base_uri": "https://localhost:8080/"
        }
      },
      "source": [
        "# Imprimo tamanios de los conjuntos de datos\n",
        "pp.pprint(\"Tamaño de secciones:\")\n",
        "pp.pprint(f\"Sociedad: {society_section.shape[0]}\")\n",
        "pp.pprint(f\"Economia: {economy_section.shape[0]}\")\n",
        "pp.pprint(f\"El-Mundo: {world_section.shape[0]}\")\n",
        "pp.pprint(f\"Total: {news.shape[0]}\")"
      ],
      "execution_count": 6,
      "outputs": [
        {
          "output_type": "stream",
          "name": "stdout",
          "text": [
            "'Tamaño de secciones:'\n",
            "'Sociedad: 1005'\n",
            "'Economia: 1093'\n",
            "'El-Mundo: 993'\n",
            "'Total: 3091'\n"
          ]
        }
      ]
    },
    {
      "cell_type": "code",
      "metadata": {
        "id": "21yHygRIHH3s"
      },
      "source": [
        "# Borramos temporal de secciones\n",
        "del society_section\n",
        "del economy_section\n",
        "del world_section\n",
        "\n",
        "# Libero memoria\n",
        "gc.collect()"
      ],
      "execution_count": null,
      "outputs": []
    },
    {
      "cell_type": "code",
      "metadata": {
        "id": "FFQu0839D9Bu"
      },
      "source": [
        "# Cargamos stopwords\n",
        "stopwords_es = pd.read_csv('https://drive.google.com/uc?export=download&id=1prdR9zCvSQnEIZoLf5B0TiS1tUhMLClC', header = None)\n",
        "stopwords_es_sin_acentos = pd.read_csv('https://drive.google.com/uc?export=download&id=1QDLZXPDnJ1XbHJRukDgqxi5P0AKtssd_', header = None)\n",
        "\n",
        "stopwords = pd.concat([stopwords_es, stopwords_es_sin_acentos])"
      ],
      "execution_count": 8,
      "outputs": []
    },
    {
      "cell_type": "code",
      "metadata": {
        "id": "DDOJHqMiEc5T"
      },
      "source": [
        "def remove_stop_words(text):\n",
        "  \"\"\"\n",
        "    Remueve stop words en inglés\n",
        "\n",
        "    Attributes\n",
        "    ----------\n",
        "    text: list\n",
        "      lista de palabras (tokens) a filtrar\n",
        "\n",
        "    Returns\n",
        "    -------\n",
        "    list\n",
        "      lista de palabras sin los stop words\n",
        "  \"\"\"\n",
        "  return [token for token in text if token.lower() not in stopwords]"
      ],
      "execution_count": 9,
      "outputs": []
    },
    {
      "cell_type": "code",
      "metadata": {
        "id": "HIxt6J9MEdVu"
      },
      "source": [
        "def stem_words(tokens):\n",
        "  \"\"\"\n",
        "    Transforma mediante un stemmer a una secuencia de tokens.\n",
        "\n",
        "    Attributes\n",
        "    ----------\n",
        "    tokens: list\n",
        "      secuencia de tokens.\n",
        "\n",
        "    Returns\n",
        "    -------\n",
        "    list\n",
        "      secuencia de tokens stemmerizados\n",
        "  \"\"\"\n",
        "  stemmer = SnowballStemmer(\"spanish\")\n",
        "  return [stemmer.stem(word) for word in tokens]"
      ],
      "execution_count": 13,
      "outputs": []
    },
    {
      "cell_type": "code",
      "metadata": {
        "id": "NtSPecIoEdYB"
      },
      "source": [
        "def clean_short_words(text):\n",
        "  \"\"\"\n",
        "    Limpia palabras con longitud 1\n",
        "\n",
        "    Attributes\n",
        "    ----------\n",
        "    text: str\n",
        "      documento a tokenizar\n",
        "    \n",
        "    Returns\n",
        "    -------\n",
        "    list\n",
        "      lista de tokens\n",
        "  \"\"\"\n",
        "  return [word for word in text if len(word) > 1]"
      ],
      "execution_count": 11,
      "outputs": []
    },
    {
      "cell_type": "code",
      "metadata": {
        "id": "dk0af5VZEdaf"
      },
      "source": [
        "def preprocess_text(text):\n",
        "  \"\"\"\n",
        "    Pre-procesamiento\n",
        "\n",
        "    Attributes\n",
        "    ----------\n",
        "    text: str\n",
        "      documento a analizar\n",
        "\n",
        "    Returns\n",
        "    -------\n",
        "    pd.DataFrame\n",
        "      retorna un dataframe con las 20 palabras que más se repiten y su frecuencia\n",
        "  \"\"\"\n",
        "  tokenized_words = word_tokenize(text, language='spanish')\n",
        "  words_without_stops = remove_stop_words(tokenized_words)\n",
        "  without_short_words = clean_short_words(words_without_stops)\n",
        "  stemmed_words = stem_words(without_short_words)\n",
        "  return stemmed_words"
      ],
      "execution_count": 87,
      "outputs": []
    },
    {
      "cell_type": "code",
      "metadata": {
        "id": "9MqW1gguZGe8"
      },
      "source": [
        "def create_train_test_csv(X_train, X_test, y_train, y_test):\n",
        "  \"\"\"\n",
        "    Crea archivos csv de datasets de entrenamiento y prueba\n",
        "\n",
        "    Attributes\n",
        "    ----------\n",
        "    X_train: Pandas Dataframe\n",
        "      predictoras del conjunto de entrenamiento\n",
        "\n",
        "    X_test: Pandas Dataframe\n",
        "      predictoras del conjunto de prueba\n",
        "\n",
        "    y_train: Pandas Dataframe\n",
        "      valores del target del conjunto de entrenamiento\n",
        "\n",
        "    y_test: Pandas Dataframe\n",
        "      valores del target del conjunto de prueba\n",
        "  \"\"\"\n",
        "  train_dataset = pd.concat([X_train, y_train], axis=1)\n",
        "  test_dataset = pd.concat([X_test, y_test], axis=1)\n",
        "  \n",
        "  train_dataset[train_dataset.topic == 'sociedad'].to_csv('Sociedad_Training.csv', sep='\\t', encoding='utf-8')\n",
        "  test_dataset[test_dataset.topic == 'sociedad'].to_csv('Sociedad_Testing.csv', sep='\\t', encoding='utf-8')\n",
        "\n",
        "  train_dataset[train_dataset.topic == 'el-mundo'].to_csv('ElMundo_Training.csv', sep='\\t', encoding='utf-8')\n",
        "  test_dataset[test_dataset.topic == 'el-mundo'].to_csv('ElMundo_Testing.csv', sep='\\t', encoding='utf-8')\n",
        "\n",
        "  train_dataset[train_dataset.topic == 'economia'].to_csv('Economia_Training.csv', sep='\\t', encoding='utf-8')\n",
        "  test_dataset[test_dataset.topic == 'economia'].to_csv('Economia_Testing.csv', sep='\\t', encoding='utf-8')"
      ],
      "execution_count": 15,
      "outputs": []
    },
    {
      "cell_type": "code",
      "metadata": {
        "id": "UAFQew8tCRHo"
      },
      "source": [
        "def convert_spanish_months_to_number(dates):\n",
        "  \"\"\"\n",
        "    Convierte meses en espaniol a numeros de los meses para unas fechas determinadas\n",
        "\n",
        "    Attributes\n",
        "    ----------\n",
        "    dates: Pandas Series\n",
        "      serie de Pandas conteniendo las fechas\n",
        "\n",
        "    Returns\n",
        "    -------\n",
        "    list\n",
        "      retorna una lista con las nuevas fechas formateadas\n",
        "  \"\"\"\n",
        "  formatted_dates = []\n",
        "  month_numbers = dict({'enero':'01', 'febrero':'02', 'marzo':'03', 'abril':'04', \n",
        "                        'mayo':'05', 'junio':'06', 'julio':'07', 'agosto':'08', \n",
        "                        'septiembre':'09', 'octubre':'10', 'noviembre':'11', 'diciembre':'12'})\n",
        "\n",
        "  for date in dates:\n",
        "    formatted_date = ' '.join([month_numbers.get(date_word, date_word) for date_word in date.split()])\n",
        "    formatted_dates.append(formatted_date)\n",
        "\n",
        "  return formatted_dates"
      ],
      "execution_count": 65,
      "outputs": []
    },
    {
      "cell_type": "code",
      "metadata": {
        "id": "XimqIqmiQ6Vw"
      },
      "source": [
        "# Observamos el dataset antes de ordenar\n",
        "news.head()"
      ],
      "execution_count": null,
      "outputs": []
    },
    {
      "cell_type": "code",
      "metadata": {
        "id": "BCwyrVNgFS3Y"
      },
      "source": [
        "# Convertimos meses de espaniol a numeros\n",
        "news['date'] = convert_spanish_months_to_number(news['date'])\n",
        "\n",
        "# Convertimos string a formato fecha\n",
        "news['date'] = pd.to_datetime(news['date'], format='%d de %m de %Y - %H:%M')\n",
        "\n",
        "# Ordenamos dataset segun fecha\n",
        "news.sort_values(by='date', inplace=True)\n",
        "\n",
        "# Observamos como quedo el dataset ordenado\n",
        "news.head()"
      ],
      "execution_count": null,
      "outputs": []
    },
    {
      "cell_type": "code",
      "metadata": {
        "id": "zE-PIliyiEyK"
      },
      "source": [
        "# Separacion en entrenamiento y validacion\n",
        "X_train, X_test, y_train, y_test = train_test_split(news.loc[:, news.columns != 'topic'], news.topic, test_size=.10, random_state=10, shuffle=False)\n",
        "\n",
        "# Guardamos conjuntos de entrenamiento y validacion en csv para la entrega\n",
        "create_train_test_csv(X_train, X_test, y_train, y_test)\n",
        "\n",
        "# Convertimos a unicode\n",
        "X_train = X_train.paragraph.values.astype('U')\n",
        "X_test = X_test.paragraph.values.astype('U')\n",
        "\n",
        "# Liberamos memoria\n",
        "del news\n",
        "gc.collect()"
      ],
      "execution_count": null,
      "outputs": []
    },
    {
      "cell_type": "code",
      "metadata": {
        "id": "4-MVV6ADiZ9P"
      },
      "source": [
        "# Cantidad minima de docs que tienen que tener a un token para conservarlo.\n",
        "MIN_DF=3\n",
        "# Cantidad maxima de docs que tienen que tener a un token para conservarlo.\n",
        "MAX_DF=0.8\n",
        "# Numero minimo tokens consecutivos que se consideran\n",
        "MIN_NGRAMS=1\n",
        "# Numero maximo tokens consecutivos que se consideran\n",
        "MAX_NGRAMS=2\n",
        "\n",
        "# Creamos TfidfVectorizer\n",
        "tfidf_vectorizer = TfidfVectorizer(tokenizer=preprocess_text, lowercase=True, strip_accents='unicode', decode_error='ignore', \n",
        "                                   ngram_range=(MIN_NGRAMS, MAX_NGRAMS), min_df=MIN_DF, max_df=MAX_DF)"
      ],
      "execution_count": 88,
      "outputs": []
    },
    {
      "cell_type": "code",
      "metadata": {
        "id": "W_i1R3HZjLLg"
      },
      "source": [
        "# Definimos dense transformer\n",
        "class DenseTransformer():\n",
        "    \n",
        "    def fit(self, X, y=None, **fit_params):\n",
        "        return self\n",
        "\n",
        "    def transform(self, X, y=None, **fit_params):\n",
        "        return X.todense()"
      ],
      "execution_count": 77,
      "outputs": []
    },
    {
      "cell_type": "code",
      "metadata": {
        "id": "Y4cIbTBYn8s3"
      },
      "source": [
        "# Creamos Folds estratificados\n",
        "stratified_kfolds = StratifiedKFold(5, random_state=10)\n",
        "\n",
        "# Definimos estimadores con los que entrenar\n",
        "estimators = [\n",
        "              ('dt', DecisionTreeClassifier()),\n",
        "              ('nb', GaussianNB()),\n",
        "              ('svc', LinearSVC())\n",
        "]\n",
        "\n",
        "# Defino hiperparametros que voy a optimizar para los diferentes modelos\n",
        "estimators_hyperparams = {\n",
        "    'dt__max_depth': list(range(2,16)), 'dt__min_samples_split': list(range(2,16)),\n",
        "    'nb__var_smoothing': np.logspace(0,-9, num=10)                                                                                                                     \n",
        "}\n",
        "\n",
        "# GridSearch con cross-validation y un stacking de estimadores previamente definidos\n",
        "model_cv = GridSearchCV(estimator = StackingClassifier(estimators=estimators, final_estimator=LogisticRegression()), \n",
        "                        param_grid = estimators_hyperparams, \n",
        "                        scoring = 'roc_auc_ovo_weighted', \n",
        "                        cv = stratified_kfolds)"
      ],
      "execution_count": 84,
      "outputs": []
    },
    {
      "cell_type": "code",
      "metadata": {
        "id": "qZ6PJy0FjIQA"
      },
      "source": [
        "# Creamos pipeline de entrenamiento\n",
        "ml_pipeline = Pipeline(steps=[\n",
        "                              ('preprocessor', tfidf_vectorizer),\n",
        "                              ('to_dense', DenseTransformer()), \n",
        "                              ('grid_search_cv', model_cv)\n",
        "])"
      ],
      "execution_count": 89,
      "outputs": []
    },
    {
      "cell_type": "code",
      "metadata": {
        "id": "EEn_3mBMm9CY"
      },
      "source": [
        "# Liberar memoria RAM antes de entrenar (Correr varias veces hasta que el numero retornado quede fijo)\n",
        "gc.collect()"
      ],
      "execution_count": null,
      "outputs": []
    },
    {
      "cell_type": "code",
      "metadata": {
        "id": "y3DACtLljLqG"
      },
      "source": [
        "# Ajustamos modelo a los datos de entrenamiento\n",
        "ml_pipeline.fit(X_train, y_train)"
      ],
      "execution_count": null,
      "outputs": []
    },
    {
      "cell_type": "code",
      "metadata": {
        "id": "1CIJJCkhj-zu"
      },
      "source": [
        "# Estimamos resultados con estimadores del conjunto de prueba\n",
        "y_pred = ml_pipeline.predict(X_test)"
      ],
      "execution_count": 95,
      "outputs": []
    },
    {
      "cell_type": "code",
      "metadata": {
        "id": "gbpAtmTDkZ2h"
      },
      "source": [
        "# Imprimimos resultados estimados\n",
        "pp.pprint(y_pred)"
      ],
      "execution_count": null,
      "outputs": []
    },
    {
      "cell_type": "code",
      "metadata": {
        "id": "XD0sAe0gkfQg"
      },
      "source": [
        "# Imprimimos resultados reales\n",
        "pp.pprint(y_test)"
      ],
      "execution_count": null,
      "outputs": []
    },
    {
      "cell_type": "code",
      "metadata": {
        "colab": {
          "base_uri": "https://localhost:8080/"
        },
        "id": "aRDDgf1BGzOj",
        "outputId": "cefc300c-905c-4bfc-aa30-c9385a41a3de"
      },
      "source": [
        "# Matriz de confusion\n",
        "labels = [\"sociedad\", \"el-mundo\", \"economia\"]\n",
        "cnf_matrix = confusion_matrix(y_test, y_pred, labels=labels)\n",
        "cnf_matrix"
      ],
      "execution_count": 99,
      "outputs": [
        {
          "output_type": "execute_result",
          "data": {
            "text/plain": [
              "array([[122,  24,   7],\n",
              "       [  7,  48,   0],\n",
              "       [  5,   1,  96]])"
            ]
          },
          "metadata": {},
          "execution_count": 99
        }
      ]
    },
    {
      "cell_type": "code",
      "metadata": {
        "id": "STdlSArCo2B0",
        "colab": {
          "base_uri": "https://localhost:8080/",
          "height": 448
        },
        "outputId": "dc571793-2b62-4b90-e77f-ae8b7f6a2971"
      },
      "source": [
        "# Grafica de matriz de confusion\n",
        "df_cm = pd.DataFrame(cnf_matrix, index = [i for i in labels], columns = [i for i in labels])\n",
        "plt.figure(figsize = (10,7))\n",
        "sns.heatmap(df_cm, annot=True, fmt='g')"
      ],
      "execution_count": 107,
      "outputs": [
        {
          "output_type": "execute_result",
          "data": {
            "text/plain": [
              "<matplotlib.axes._subplots.AxesSubplot at 0x7f48214ca850>"
            ]
          },
          "metadata": {},
          "execution_count": 107
        },
        {
          "output_type": "display_data",
          "data": {
            "image/png": "[encoded data removed]",
            "text/plain": [
              "<Figure size 720x504 with 2 Axes>"
            ]
          },
          "metadata": {}
        }
      ]
    },
    {
      "cell_type": "code",
      "metadata": {
        "colab": {
          "base_uri": "https://localhost:8080/"
        },
        "id": "-wTc4LXeWKBR",
        "outputId": "ce245c08-af62-4e0d-ed3d-5bd739d9820f"
      },
      "source": [
        "# Accuracy\n",
        "accuracy_score(y_test, y_pred)"
      ],
      "execution_count": 108,
      "outputs": [
        {
          "output_type": "execute_result",
          "data": {
            "text/plain": [
              "0.8580645161290322"
            ]
          },
          "metadata": {},
          "execution_count": 108
        }
      ]
    },
    {
      "cell_type": "code",
      "metadata": {
        "colab": {
          "base_uri": "https://localhost:8080/"
        },
        "id": "cgCUorB6WM1S",
        "outputId": "986088e3-a5f6-42ff-e2ff-1cee64c28fcb"
      },
      "source": [
        "# Precision\n",
        "precision_score(y_test, y_pred, average='weighted')"
      ],
      "execution_count": 109,
      "outputs": [
        {
          "output_type": "execute_result",
          "data": {
            "text/plain": [
              "0.8726801683528354"
            ]
          },
          "metadata": {},
          "execution_count": 109
        }
      ]
    },
    {
      "cell_type": "code",
      "metadata": {
        "colab": {
          "base_uri": "https://localhost:8080/"
        },
        "id": "9PSf2x2VWP0j",
        "outputId": "be963377-5cdf-4d8a-c11f-6a05f77d85e7"
      },
      "source": [
        "# Recall\n",
        "recall_score(y_test, y_pred, average='weighted')"
      ],
      "execution_count": 110,
      "outputs": [
        {
          "output_type": "execute_result",
          "data": {
            "text/plain": [
              "0.8580645161290322"
            ]
          },
          "metadata": {},
          "execution_count": 110
        }
      ]
    },
    {
      "cell_type": "code",
      "metadata": {
        "id": "N9wf8_KZSnLc",
        "outputId": "fb96fb48-fe04-475d-adae-7938f811949b",
        "colab": {
          "base_uri": "https://localhost:8080/"
        }
      },
      "source": [
        "# F1 Score\n",
        "f1_score(y_test, y_pred, average='weighted')"
      ],
      "execution_count": 113,
      "outputs": [
        {
          "output_type": "execute_result",
          "data": {
            "text/plain": [
              "0.8608334269978646"
            ]
          },
          "metadata": {},
          "execution_count": 113
        }
      ]
    }
  ]
}